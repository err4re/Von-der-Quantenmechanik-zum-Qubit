{
 "cells": [
  {
   "cell_type": "markdown",
   "id": "352e42de-3b8d-4b7e-8027-ae882f4ceb08",
   "metadata": {},
   "source": [
    "------\n",
    "# Stern Gerlach (simuliert...)\n",
    "\n",
    "An dieser Stelle wollen wir das Stern-Gerlach Experiment simulieren. Denn Qubits und Elektronenspins (magnetische Momente) sind mathematisch tatsächlich das gleiche Quantensystem!\n",
    "\n",
    "Also: 1 Qubit $\\equiv$ 1 Elektronenspin\n",
    "\n"
   ]
  },
  {
   "cell_type": "code",
   "execution_count": 1,
   "id": "63ae78bd-bea0-426e-abf4-89a7d478bcd5",
   "metadata": {},
   "outputs": [],
   "source": [
    "import numpy as np\n",
    "from qiskit import *\n",
    "from qiskit.visualization import plot_histogram"
   ]
  },
  {
   "cell_type": "code",
   "execution_count": 2,
   "id": "df6c05b7-c170-4b4f-88ab-36aecc41b938",
   "metadata": {},
   "outputs": [],
   "source": [
    "#Register erstellen und Schaltkreis generieren\n",
    "reg = QuantumRegister(1)\n",
    "qc = QuantumCircuit(reg)"
   ]
  },
  {
   "cell_type": "code",
   "execution_count": 3,
   "id": "6d1e669e-9401-45dc-9bb3-445442206ada",
   "metadata": {},
   "outputs": [
    {
     "data": {
      "text/html": [
       "<pre style=\"word-wrap: normal;white-space: pre;background: #fff0;line-height: 1.1;font-family: &quot;Courier New&quot;,Courier,monospace\">    ┌─────────────────┐\n",
       "q0: ┤ Initialize(0,1) ├\n",
       "    └─────────────────┘</pre>"
      ],
      "text/plain": [
       "    ┌─────────────────┐\n",
       "q0: ┤ Initialize(0,1) ├\n",
       "    └─────────────────┘"
      ]
     },
     "execution_count": 3,
     "metadata": {},
     "output_type": "execute_result"
    }
   ],
   "source": [
    "#Anfangszustand (ist natürlich ein Vektor!)\n",
    "initial_state = [0,1]\n",
    "\n",
    "#Anfangszustand in das Qubit schreiben\n",
    "qc.initialize(initial_state, 0)\n",
    "\n",
    "#Schaltkreis darstellen\n",
    "qc.draw()"
   ]
  },
  {
   "cell_type": "code",
   "execution_count": 4,
   "id": "478f4184-edba-4193-9648-8cbd78a7489e",
   "metadata": {},
   "outputs": [
    {
     "data": {
      "image/png": "[encoded data removed]",
      "text/plain": [
       "<Figure size 146.507x84.28 with 1 Axes>"
      ]
     },
     "execution_count": 4,
     "metadata": {},
     "output_type": "execute_result"
    }
   ],
   "source": [
    "qc.draw('mpl')"
   ]
  },
  {
   "cell_type": "code",
   "execution_count": 5,
   "id": "57a1323b-3122-4b1b-8cd5-e8e9c5d39c51",
   "metadata": {},
   "outputs": [],
   "source": [
    "#Simulator/Backend auswählen (hier können wir später echte Quantencomputer auswählen!)\n",
    "sim = Aer.get_backend('statevector_simulator')"
   ]
  },
  {
   "cell_type": "code",
   "execution_count": 6,
   "id": "4e285927-aa08-4e9f-816a-c97210d11635",
   "metadata": {},
   "outputs": [],
   "source": [
    "#Job erstellen\n",
    "job = sim.run(qc)\n",
    "\n",
    "#Ergebnisse abholen\n",
    "result = job.result()"
   ]
  },
  {
   "cell_type": "code",
   "execution_count": 7,
   "id": "67637fc5-14b1-4791-a019-1792d49579ff",
   "metadata": {},
   "outputs": [
    {
     "name": "stdout",
     "output_type": "stream",
     "text": [
      "Statevector([0.+0.j, 1.+0.j],\n",
      "            dims=(2,))\n"
     ]
    }
   ],
   "source": [
    "#in den Quantenzustand reinschauen, keine Messung!\n",
    "#ist in der Realität (auf echten Quantencomputern) nicht möglich, hier in der Simulation schon ^^\n",
    "outputstate = result.get_statevector(qc, decimals=1)\n",
    "print(outputstate)"
   ]
  },
  {
   "cell_type": "code",
   "execution_count": 8,
   "id": "7a6325f1-2c7b-498d-a5ca-679aa85f12d0",
   "metadata": {},
   "outputs": [
    {
     "data": {
      "text/html": [
       "<pre style=\"word-wrap: normal;white-space: pre;background: #fff0;line-height: 1.1;font-family: &quot;Courier New&quot;,Courier,monospace\">        ┌─────────────────┐ ░ ┌─┐\n",
       "    q0: ┤ Initialize(0,1) ├─░─┤M├\n",
       "        └─────────────────┘ ░ └╥┘\n",
       "meas: 1/═══════════════════════╩═\n",
       "                               0 </pre>"
      ],
      "text/plain": [
       "        ┌─────────────────┐ ░ ┌─┐\n",
       "    q0: ┤ Initialize(0,1) ├─░─┤M├\n",
       "        └─────────────────┘ ░ └╥┘\n",
       "meas: 1/═══════════════════════╩═\n",
       "                               0 "
      ]
     },
     "execution_count": 8,
     "metadata": {},
     "output_type": "execute_result"
    }
   ],
   "source": [
    "#Messung einbauen\n",
    "qc.measure_all()\n",
    "\n",
    "qc.draw()"
   ]
  },
  {
   "cell_type": "code",
   "execution_count": 9,
   "id": "6085af74-3088-4bec-98db-8d45325ba052",
   "metadata": {},
   "outputs": [
    {
     "data": {
      "image/png": "[encoded data removed]",
      "text/plain": [
       "<Figure size 504x360 with 1 Axes>"
      ]
     },
     "execution_count": 9,
     "metadata": {},
     "output_type": "execute_result"
    }
   ],
   "source": [
    "#neuer Simulator, \n",
    "qasm_sim = Aer.get_backend('qasm_simulator')\n",
    "\n",
    "qasm_job = qasm_sim.run(qc, shots=1024)\n",
    "result = qasm_job.result()\n",
    "\n",
    "counts = result.get_counts()\n",
    "\n",
    "### Qubits werden immer mit 0 initialisiert!\n",
    "\n",
    "plot_histogram(counts)"
   ]
  },
  {
   "cell_type": "code",
   "execution_count": 79,
   "id": "21ec142c-2cb6-47fb-85fc-b7a3ecc04a59",
   "metadata": {},
   "outputs": [],
   "source": [
    "from qiskit import quantum_info\n",
    "\n",
    "#Stern-Gerlach-Experiment\n",
    "def stern_gerlach():\n",
    "    '''\n",
    "    Run one interation of the Stern-Gerlach experiment\n",
    "    \n",
    "    Args:\n",
    "        None\n",
    "        \n",
    "    Returns:\n",
    "        counts (dict)\n",
    "    '''\n",
    "    \n",
    "    #Schaltkreis erzeugen\n",
    "    reg_sg = QuantumRegister(1)\n",
    "    qc_sg = QuantumCircuit(reg_sg)\n",
    "    \n",
    "    #zufälliger Anfangszustand\n",
    "    initial_state = quantum_info.random_statevector(dims=2)\n",
    "    \n",
    "    #print(initial_state)\n",
    "    \n",
    "    #Anfangszustand in das Qubit schreiben\n",
    "    qc_sg.initialize(initial_state, 0)\n",
    "    \n",
    "    #Messung einbauen\n",
    "    qc_sg.measure_all()\n",
    "    \n",
    "    #simulieren\n",
    "    qasm_sim = Aer.get_backend('qasm_simulator')\n",
    "\n",
    "    qasm_job = qasm_sim.run(qc_sg, shots=1)\n",
    "    result = qasm_job.result()\n",
    "\n",
    "    counts = result.get_counts().int_outcomes()\n",
    "    \n",
    "    return counts"
   ]
  },
  {
   "cell_type": "code",
   "execution_count": 83,
   "id": "422dc51a-448e-4c12-94b2-1be57aedc281",
   "metadata": {},
   "outputs": [],
   "source": [
    "#Stern-Gerlach-Experiment durchführen\n",
    "\n",
    "#100 verschiedene zufällig ausgerichtete \"Silberatome\" frisch aus dem Ofen messen\n",
    "N = 100\n",
    "\n",
    "#Messergebnisse sammeln wir hier\n",
    "counts = {}\n",
    "\n",
    "#dies ist eine Schleife, die Zeilen in diesem Block werden N=100-mal ausgeführt\n",
    "for i in range(N):\n",
    "    \n",
    "    measurement = stern_gerlach()\n",
    "\n",
    "    for res in measurement:\n",
    "        try:\n",
    "            counts[res] = counts[res] + 1\n",
    "            #oder kompakter: counts[res] +=1\n",
    "            \n",
    "        #Falls wir dieses Ergebnis zum ersten Mal messen, müssen wir erst einen neuen Eintrag erzeugen    \n",
    "        except KeyError:\n",
    "            counts[res] = 1"
   ]
  },
  {
   "cell_type": "code",
   "execution_count": 85,
   "id": "3dd49978-f8c6-4b68-aba1-45906cd9de1b",
   "metadata": {},
   "outputs": [
    {
     "data": {
      "image/png": "[encoded data removed]",
      "text/plain": [
       "<Figure size 504x360 with 1 Axes>"
      ]
     },
     "execution_count": 85,
     "metadata": {},
     "output_type": "execute_result"
    }
   ],
   "source": [
    "plot_histogram(counts)"
   ]
  },
  {
   "cell_type": "code",
   "execution_count": 86,
   "id": "01fb6bf4-e5e3-4f80-90df-64e4ab9f7ba4",
   "metadata": {},
   "outputs": [
    {
     "data": {
      "text/plain": [
       "{0: 45, 1: 55}"
      ]
     },
     "execution_count": 86,
     "metadata": {},
     "output_type": "execute_result"
    }
   ],
   "source": [
    "counts"
   ]
  }
 ],
 "metadata": {
  "kernelspec": {
   "display_name": "Python 3 (ipykernel)",
   "language": "python",
   "name": "python3"
  },
  "language_info": {
   "codemirror_mode": {
    "name": "ipython",
    "version": 3
   },
   "file_extension": ".py",
   "mimetype": "text/x-python",
   "name": "python",
   "nbconvert_exporter": "python",
   "pygments_lexer": "ipython3",
   "version": "3.10.4"
  }
 },
 "nbformat": 4,
 "nbformat_minor": 5
}
