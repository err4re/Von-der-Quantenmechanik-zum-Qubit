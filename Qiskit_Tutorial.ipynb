{
 "cells": [
  {
   "cell_type": "markdown",
   "id": "d129ca88-d32d-4278-9200-9a53332aa5d0",
   "metadata": {},
   "source": [
    "# Zeit für Qiskit!\n",
    "\n",
    "Jetzt legen wir mit der IBM library (Bibliothek für Quantencomputing, haben wir schon installiert) los, endlich 😊\n",
    "\n",
    "Im Folgenden bekommt ihr jeweils einen Beispielcode und dazu eine Aufgabe. Mehr Tutorials findet ihr [hier](https://qiskit.org/documentation/tutorials.html#tutorials) und Informationen zu Qiskit [hier](https://qiskit.org/documentation/index.html). Und wer richtig viel Zeit hat (haben wir im Kurs leider nicht..), kann sich diese [extrem gute Einführung](https://qiskit.org/textbook/preface.html) anschauen\n",
    "\n",
    "----\n",
    "\n",
    "## Beispiel 1"
   ]
  },
  {
   "cell_type": "code",
   "execution_count": 2,
   "id": "13616158-ee34-412e-bc26-035e9f1bf72c",
   "metadata": {},
   "outputs": [
    {
     "data": {
      "image/png": "[encoded data removed]",
      "text/plain": [
       "<Figure size 504x360 with 1 Axes>"
      ]
     },
     "execution_count": 2,
     "metadata": {},
     "output_type": "execute_result"
    }
   ],
   "source": [
    "#\n",
    "# Ein erster Circuit (Schaltkreis)\n",
    "# Importiere Module + Speichere Informationen in einem (Qu)Bit\n",
    "#\n",
    "from qiskit import QuantumCircuit, Aer\n",
    "from qiskit.visualization import plot_histogram\n",
    "\n",
    "#\n",
    "# Bastele einen Circuit zusammen\n",
    "# Input Qubits\n",
    "qc_output = QuantumCircuit(8)\n",
    "# Messe alle\n",
    "qc_output.measure_all()\n",
    "# Male den Cirquit auf\n",
    "qc_output.draw(initial_state=True) \n",
    "\n",
    "# Hier wird ein Quantum Computer Klassisch Simuliert\n",
    "# Welchen Simulator will ich?\n",
    "sim = Aer.get_backend('aer_simulator') \n",
    "result = sim.run(qc_output).result()\n",
    "counts = result.get_counts()\n",
    "# Qubits werden immer mit 0 initialisiert!\n",
    "plot_histogram(counts)\n",
    "\n",
    "#\n",
    "# Speichere Infors\n",
    "#\n",
    "# Initialisiere 8 Qubits\n",
    "qc_encode = QuantumCircuit(8)\n",
    "# Initialisiere eine Zahl\n",
    "# Alle werden zu 0 initialisiert, der letzte wird zu 1 geändert!\n",
    "# Benutzt wird dazu das NOT gate, (x)\n",
    "qc_encode.x(0)\n",
    "qc_encode.x(3)\n",
    "qc_encode.x(4)\n",
    "\n",
    "# Messen nicht vergessen!\n",
    "qc_encode.measure_all()\n",
    "qc_encode.draw()\n",
    "\n",
    "result = sim.run(qc_encode).result()\n",
    "counts = result.get_counts()\n",
    "plot_histogram(counts)\n",
    "\n",
    "# Ende des Beispiels\n",
    "#\n",
    "# Aufgabe 1: \n",
    "# Sucht euch eine Zahl und setzt euren Anfangsqubit auf diesen Wert!\n",
    "\n"
   ]
  },
  {
   "cell_type": "markdown",
   "id": "0407526b-0929-4fb5-a5f9-8fe3e3dea2c4",
   "metadata": {},
   "source": [
    "## Aufgabe 1:\n",
    "\n",
    "Sucht euch eine Zahl und setzt euer Anfangsqubit auf diesen Wert!"
   ]
  },
  {
   "cell_type": "code",
   "execution_count": null,
   "id": "db09ad6f-4e6f-4a97-ba22-4d5a6da3793a",
   "metadata": {},
   "outputs": [],
   "source": []
  },
  {
   "cell_type": "markdown",
   "id": "e866f112-2159-4788-8f6d-903ef783adc8",
   "metadata": {},
   "source": [
    "## Beispiel 2:"
   ]
  },
  {
   "cell_type": "code",
   "execution_count": 4,
   "id": "c17205ee-ce7d-4880-a537-bb09f638f5e2",
   "metadata": {},
   "outputs": [
    {
     "data": {
      "image/png": "[encoded data removed]",
      "text/plain": [
       "<Figure size 504x360 with 1 Axes>"
      ]
     },
     "execution_count": 4,
     "metadata": {},
     "output_type": "execute_result"
    }
   ],
   "source": [
    "#\n",
    "# Ein zweiter Circuit\n",
    "# Addition\n",
    "#\n",
    "from qiskit import assemble\n",
    "\n",
    "# The XOR Gate: realisiert mit controlled-not (CNOT)\n",
    "qc = QuantumCircuit(2,2)\n",
    "qc.x(0)\n",
    "#qc.x(1)\n",
    "## controlled not: falls q0 den Wert 1 hat wird not auf q1 angewendet\n",
    "qc.cx(0,1)\n",
    "qc.measure(0,0)\n",
    "qc.measure(1,1)\n",
    "qc.draw()\n",
    "\n",
    "# Übliches Auswerten!\n",
    "sim = Aer.get_backend('aer_simulator') \n",
    "result = sim.run(qc).result()\n",
    "counts = result.get_counts()\n",
    "plot_histogram(counts)\n",
    "\n",
    "# Nutze CNOT um auf anderen Qubit zu schreiben!\n",
    "qc_ha = QuantumCircuit(4,2)\n",
    "\n",
    "#qc_ha.x(0) # For a=0, remove this line. For a=1, leave it.\n",
    "#qc_ha.x(1) # For b=0, remove this line. For b=1, leave it.\n",
    "# Encoding done: Barriere!\n",
    "qc_ha.barrier()\n",
    "# Nutze CNOTs\n",
    "# Kopiere den ersten Bit auf 2\n",
    "qc_ha.cx(0,2)\n",
    "# Wende XOR auf die Kopie an\n",
    "qc_ha.cx(1,2)\n",
    "\n",
    "# NEUES Gate Toffoli: Kontrolliert 2 inputs für NOT\n",
    "# Classisches AND gate (Der Alleskönner!!)\n",
    "qc_ha.ccx(0,1,3)\n",
    "# Cirquit done: Barriere!\n",
    "qc_ha.barrier()\n",
    "# Messe nur input Qubits 2 und 3 \n",
    "qc_ha.measure(2,0) # extract XOR value\n",
    "qc_ha.measure(3,1)\n",
    "\n",
    "qc_ha.draw()\n",
    "\n",
    "result = sim.run(qc_ha).result()\n",
    "counts = result.get_counts()\n",
    "plot_histogram(counts)\n",
    "\n",
    "# Ende des Beispiels\n",
    "#\n",
    "# Aufgabe 2: \n",
    "# Schreibt einen Circuit, der mehr als eine Ziffer addieren kann!\n",
    "# (Bonus:) Schreib euch eine Phython Funktion, so dass das ganze nicht manuell\n",
    "# eingetippt werden muss"
   ]
  },
  {
   "cell_type": "markdown",
   "id": "2ba55822-227d-4a70-9961-34255bb5628b",
   "metadata": {},
   "source": [
    "## Aufgabe 2:\n",
    "\n",
    "Schreibt einen Schaltkreis (Circuit), der mehr als eine Ziffer addieren kann! (Bonus:) Schreib euch eine Phython Funktion, so dass das ganze nicht manuell eingetippt werden muss."
   ]
  },
  {
   "cell_type": "code",
   "execution_count": null,
   "id": "d676e0cd-f7fa-4e5f-bf8a-741bb91c93da",
   "metadata": {},
   "outputs": [],
   "source": []
  },
  {
   "cell_type": "markdown",
   "id": "941ab848-5dcb-4689-91c2-561ec1fa2a05",
   "metadata": {},
   "source": [
    "## Beispiel 3:"
   ]
  },
  {
   "cell_type": "code",
   "execution_count": 5,
   "id": "e5bb5b06-e8d7-4c53-8488-abbcc5877ca2",
   "metadata": {},
   "outputs": [
    {
     "name": "stdout",
     "output_type": "stream",
     "text": [
      "Statevector([0.70710678+0.j        , 0.        +0.70710678j],\n",
      "            dims=(2,))\n",
      "Zustand nach Messung = Statevector([0.+1.j, 0.+0.j],\n",
      "            dims=(2,))\n"
     ]
    }
   ],
   "source": [
    "#\n",
    "# Ein erster QuantenCircuit! \n",
    "#\n",
    "from qiskit.visualization import plot_bloch_vector\n",
    "from math import sqrt, pi\n",
    "\n",
    "sim = Aer.get_backend('aer_simulator') \n",
    "\n",
    "# Cirquit mit einem Qubit\n",
    "qc = QuantumCircuit(1)\n",
    "# Definiere Anfangszstd über eine Liste + initialisiere das QB\n",
    "initial_state = [sqrt(1/2),sqrt(1/2)*1j] \n",
    "qc.initialize(initial_state, 0)\n",
    "# Speichere Zustandsvektor und erstelle ein Quantenobjekt für den Simulator!\n",
    "qc.save_statevector()   \n",
    "qobj = assemble(qc)   # NEU! \n",
    "\n",
    "result = sim.run(qobj).result() \n",
    "\n",
    "# Gebe outputvektor an!\n",
    "out_state = result.get_statevector()\n",
    "print(out_state) \n",
    "\n",
    "qc.measure_all()\n",
    "qc.draw()\n",
    "\n",
    "qobj = assemble(qc)\n",
    "result = sim.run(qobj).result()\n",
    "counts = result.get_counts()\n",
    "plot_histogram(counts)\n",
    "\n",
    "# Checke Zustandsvektor nach der Messung...\n",
    "qc = QuantumCircuit(1) # Neues QC\n",
    "initial_state = [0.+1.j/sqrt(2),1/sqrt(2)+0.j]\n",
    "qc.initialize(initial_state, 0)\n",
    "qc.measure_all()\n",
    "qc.save_statevector()\n",
    "qc.draw()\n",
    "\n",
    "qobj = assemble(qc)\n",
    "state = sim.run(qobj).result().get_statevector()\n",
    "print(\"Zustand nach Messung = \" + str(state))\n",
    "\n",
    "#  Wichitg: bei einem richtigen QuantenComputer kann man nicht den Zustands- \n",
    "#  vektor \"spicken\". Das geht nur bei dem aer_simulator und dient einem\n",
    "#  pädagogischen Zweck.\n",
    "\n",
    "#\n",
    "# Aufgabe: Probiert ein bisschen rum mit Zustandsvektoren, \n",
    "# was für Wahrscheinlichkeiten funktionieren, was passiert bei mehreren Qubits?\n",
    "#"
   ]
  },
  {
   "cell_type": "markdown",
   "id": "675fcdcd-caff-4ddf-a445-ce833fb2b9a1",
   "metadata": {},
   "source": [
    "## Aufgabe 3:\n",
    "\n",
    "Probiert ein bisschen rum mit Zustandsvektoren, was für Wahrscheinlichkeiten funktionieren, was passiert bei mehreren Qubits?"
   ]
  },
  {
   "cell_type": "code",
   "execution_count": null,
   "id": "6876c2c3-e5c0-432b-bf75-25cde884ccfc",
   "metadata": {},
   "outputs": [],
   "source": []
  }
 ],
 "metadata": {
  "kernelspec": {
   "display_name": "Python 3 (ipykernel)",
   "language": "python",
   "name": "python3"
  },
  "language_info": {
   "codemirror_mode": {
    "name": "ipython",
    "version": 3
   },
   "file_extension": ".py",
   "mimetype": "text/x-python",
   "name": "python",
   "nbconvert_exporter": "python",
   "pygments_lexer": "ipython3",
   "version": "3.10.4"
  }
 },
 "nbformat": 4,
 "nbformat_minor": 5
}
