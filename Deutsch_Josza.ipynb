{
 "cells": [
  {
   "cell_type": "markdown",
   "id": "165a9ba0-ef95-43ae-9c12-5c20356fc5ca",
   "metadata": {
    "tags": []
   },
   "source": [
    "# Deutsch-Josza-Algorithmus\n",
    "\n",
    "Der Deutsch-Josza-Algorithmus ist ein Quantenalgorithmus, welcher schneller als jeder klassische Algorithmus ermittelt, ob eine Funktion balanciert oder konstant ist. Bildet eine Funktion auf $\\left\\{ 0,1 \\right\\}$, dann ist sie konstant, wenn alle Argumente auf denselben Wert abgebildet werden (z.B. 0). Bildet die Funktion genau die Hälfte der Argumente auf 0 und die andere Hälfte auf 1 ab.\n",
    "\n",
    "## Problem:\n",
    "Es liegt eine Funktion $f(x): \\left\\{ 0,1 \\right\\}^{n} \\rightarrow \\left\\{ 0,1 \\right\\} $ vor, sie ist balanciert oder konstant. Die Eingabe besteht aus n-Bits, die Zahl der möglichen Argumente ist also immer gerade. Unsere Aufgabe ist es möglichst effizient herauszufinden, welche von beiden Eigenschaften die Funktion erfüllt 🧐\n",
    "\n",
    "------------\n",
    "\n",
    "### Klassische Lösung\n",
    "\n",
    "1. Wie oft muss die Funktion f im besten Fall ausgewertet werden, um ihre Eigenschaft zu ermitteln?\n",
    "2. Wie oft muss die Funktion f im schlechsteten Fall ausgewertet werden, um ihre Eigenschaften zu ermitteln?\n",
    "3. *Zusatz:* Mit welcher Wahrscheinlichkeit liegt der folgende klassische, probabilistische Algorithmus falsch?\n",
    ">    1. Wähle zufällig k Argumente aus, $x_1, ..., x_k \\in \\{ 0,1 \\}^n$\n",
    ">    2. Werte $f(x_i)$ für $i = 1, ..., k$ aus\n",
    ">    3. Ist $f(x_1)=...=f(x_k)$ erfüllt, dann behaupten wir die Funktion sei konstant (andernfalls ist sie balanciert)\n",
    "\n",
    "--------\n",
    "    \n",
    "### Quantenalgorithmus\n",
    "\n",
    "![Deutsch-Josza](./Deutsch-Josza.png)\n",
    "\n",
    "1. Welche Gates wirken bei der Umformung von $\\left| \\psi_0 \\right>$ zu $\\left| \\psi_1 \\right>$ ?\n",
    "2. Welches Ergebnis erhält man für $\\left| \\psi_1 \\right>$ ?\n",
    "3. Das neue Gate $U_f$ heißt Orakel und stellt die Funktion f dar, welche wir untersuchen. Es lässt die ersten n-Qubits unverändert ($x$ wird auf $x$ abgebildet), nur das (n+1)-Qubit wird verändert, wobei $y \\rightarrow y \\oplus f(x)$. Die ersten n-Qubits sind also im Zustand $\\left| x \\right>$, $x$ ist eine Binärzahl (siehe [Problem](#Problem:))! Das Gate wertet also $f(x)$ aus und schreibt das Ergebnis durch binäre Addition in das letzte Qubit, das heißt $U_f \\left( \\left| x \\right> \\otimes \\left| y \\right> \\right) = \\left| x \\right> \\otimes \\left| y \\oplus f(x) \\right>$.\n",
    "Wie sieht der Zustand $\\left| \\psi_2 \\right>$ aus?\n",
    ">       Binäre Addition:\n",
    "| $$a$$ | $$b$$ |  $$a \\oplus b$$  |\n",
    "| --- | --- | :----------------: |\n",
    "| 0 | 0 | 0 |\n",
    "| 1 | 0 | 1 |\n",
    "| 0 | 1 | 1 |\n",
    "| 1 | 1 | 0 |\n",
    "4. *Zusatz:* Welchen finalen Zustand (kurz vor der Messung) $\\left| \\psi_3 \\right>$ erhalten wir? Hinweis, zeige dass: $ H^{\\otimes n} \\left| x \\right> = \\frac{1}{\\sqrt 2^n} \\sum_z (-1)^{x\\cdot z} \\left| z \\right>$ (hier verwenden wir das binäre Skalarprodukt).\n",
    "5. Die Messung kann hier wieder als Projektion auf den Zustand $\\left| 0 \\right>^{\\otimes n}$ aufgefasst werden, wir messen nur die ersten n-Qubits! Was ist das Ergebnis der Projektion $\\left< 0 \\right|^{\\otimes n} \\left| \\psi_3 \\right>$ ? Hinweis, wer 4. übersprungen hat, kann $ H^{\\otimes n}$ nach links anwenden (warum?).\n",
    "\n",
    "--------\n",
    "\n",
    "### Qiskit\n",
    "\n",
    "Jetzt haben wir zwei Möglichkeiten, den Deutsch-Josza-Algorithmus selber in Qiskit implementieren oder `qiskit.aqua.algorithms` nutzen. Unsere Funktion f:\n",
    "\n",
    "| Dezimaldarstellung $$x$$ | binäre Darstellung $$x_2 x_1 x_0$$ |  Funktion $$f(x) = x_0 \\oplus x_1 x_2$$ |\n",
    "| :-------------: | :---------: | :-----------: |\n",
    "|0| 000| 0|\n",
    "|1| 001| 1|\n",
    "|2| 010| 0|\n",
    "|3| 011| 1|\n",
    "|4| 100| 0|\n",
    "|5| 101| 1|\n",
    "|6| 110| 1|\n",
    "|7| 111| 0|"
   ]
  },
  {
   "cell_type": "code",
   "execution_count": null,
   "id": "56b0175f-9fce-4a50-8375-44998342f732",
   "metadata": {},
   "outputs": [],
   "source": []
  }
 ],
 "metadata": {
  "kernelspec": {
   "display_name": "Python 3 (ipykernel)",
   "language": "python",
   "name": "python3"
  },
  "language_info": {
   "codemirror_mode": {
    "name": "ipython",
    "version": 3
   },
   "file_extension": ".py",
   "mimetype": "text/x-python",
   "name": "python",
   "nbconvert_exporter": "python",
   "pygments_lexer": "ipython3",
   "version": "3.10.4"
  }
 },
 "nbformat": 4,
 "nbformat_minor": 5
}
